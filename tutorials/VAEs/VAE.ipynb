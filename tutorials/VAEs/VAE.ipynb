{
 "cells": [
  {
   "cell_type": "code",
   "execution_count": null,
   "id": "fdafba8e",
   "metadata": {},
   "outputs": [],
   "source": [
    "%load_ext autoreload\n",
    "%autoreload 2\n",
    "\n",
    "import numpy as np\n",
    "import sklearn\n",
    "import copy\n",
    "import sklearn.model_selection\n",
    "import tensorflow as tf\n",
    "from tensorflow import keras\n",
    "from tensorflow.keras import layers\n",
    "\n",
    "import tsgm"
   ]
  },
  {
   "cell_type": "code",
   "execution_count": null,
   "id": "a7eb945a",
   "metadata": {},
   "outputs": [],
   "source": [
    "#architecture = VAE_CONV5Architecture(24, 5, 10)\n",
    "architecture = tsgm.models.zoo[\"vae_conv5\"](24, 5, 10)\n",
    "encoder, decoder = architecture.encoder, architecture.decoder"
   ]
  },
  {
   "cell_type": "code",
   "execution_count": null,
   "id": "3da6d8eb",
   "metadata": {},
   "outputs": [],
   "source": [
    "data = tsgm.utils.gen_sine_dataset(10000, 24, 5)"
   ]
  },
  {
   "cell_type": "code",
   "execution_count": null,
   "id": "d078eedb",
   "metadata": {},
   "outputs": [],
   "source": [
    "scaler = tsgm.utils.TSFeatureWiseScaler()        \n",
    "scaled_data = scaler.fit_transform(data)"
   ]
  },
  {
   "cell_type": "code",
   "execution_count": null,
   "id": "ae0de98f",
   "metadata": {},
   "outputs": [],
   "source": [
    "vae = tsgm.models.cvae.BetaVAE(encoder, decoder)\n",
    "vae.compile(optimizer=keras.optimizers.Adam())\n",
    "\n",
    "vae.fit(scaled_data, epochs=100, batch_size=64)"
   ]
  },
  {
   "cell_type": "code",
   "execution_count": null,
   "id": "d8be86ca",
   "metadata": {},
   "outputs": [],
   "source": [
    "x_decoded = vae.predict(scaled_data)"
   ]
  },
  {
   "cell_type": "code",
   "execution_count": null,
   "id": "c928ddbd",
   "metadata": {},
   "outputs": [],
   "source": [
    "tsgm.utils.visualize_original_and_reconst_ts(scaled_data, x_decoded, num=10)"
   ]
  }
 ],
 "metadata": {
  "kernelspec": {
   "display_name": "Python 3 (ipykernel)",
   "language": "python",
   "name": "python3"
  },
  "language_info": {
   "codemirror_mode": {
    "name": "ipython",
    "version": 3
   },
   "file_extension": ".py",
   "mimetype": "text/x-python",
   "name": "python",
   "nbconvert_exporter": "python",
   "pygments_lexer": "ipython3",
   "version": "3.8.2"
  }
 },
 "nbformat": 4,
 "nbformat_minor": 5
}
